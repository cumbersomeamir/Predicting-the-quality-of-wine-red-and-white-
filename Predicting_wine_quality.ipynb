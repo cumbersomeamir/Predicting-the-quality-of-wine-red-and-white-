{
  "nbformat": 4,
  "nbformat_minor": 0,
  "metadata": {
    "colab": {
      "name": "Predicting wine quality",
      "provenance": [],
      "collapsed_sections": []
    },
    "kernelspec": {
      "name": "python3",
      "display_name": "Python 3"
    }
  },
  "cells": [
    {
      "cell_type": "markdown",
      "metadata": {
        "id": "L0lmDgHudnvn",
        "colab_type": "text"
      },
      "source": [
        "# Mounting the drive for reading files"
      ]
    },
    {
      "cell_type": "code",
      "metadata": {
        "id": "xucgPRJtd0Q5",
        "colab_type": "code",
        "colab": {}
      },
      "source": [
        "from pydrive.auth import GoogleAuth\n",
        "from pydrive.drive import GoogleDrive\n",
        "from google.colab import auth, drive\n",
        "from oauth2client.client import GoogleCredentials\n",
        "\n",
        "auth.authenticate_user()\n",
        "gauth = GoogleAuth()\n",
        "gauth.credentials = GoogleCredentials.get_application_default()\n",
        "drive = GoogleDrive(gauth)"
      ],
      "execution_count": null,
      "outputs": []
    },
    {
      "cell_type": "markdown",
      "metadata": {
        "id": "RHA-GDNqZBoW",
        "colab_type": "text"
      },
      "source": [
        "# Importing the relevant libraries"
      ]
    },
    {
      "cell_type": "code",
      "metadata": {
        "id": "MTxhyWuoY8RP",
        "colab_type": "code",
        "colab": {}
      },
      "source": [
        "\n",
        "import tensorflow as tf \n",
        "import pandas as pd \n",
        "import numpy as np \n",
        "import matplotlib.pyplot as plt \n",
        "from tensorflow.keras.layers import Dense, Activation, Dropout \n",
        "from tensorflow.keras.models import Sequential\n",
        "from sklearn.metrics import accuracy_score\n",
        "from sklearn.preprocessing import StandardScaler\n",
        "from sklearn.model_selection import train_test_split \n",
        "\n"
      ],
      "execution_count": null,
      "outputs": []
    },
    {
      "cell_type": "markdown",
      "metadata": {
        "id": "35mCkWQrcis_",
        "colab_type": "text"
      },
      "source": [
        "# Loading the data"
      ]
    },
    {
      "cell_type": "code",
      "metadata": {
        "id": "Jq8TuOOwcS3N",
        "colab_type": "code",
        "colab": {
          "base_uri": "https://localhost:8080/",
          "height": 302
        },
        "outputId": "7e2db4a4-8212-482b-f4db-49e9e7bd33bb"
      },
      "source": [
        "#Exogenously setting the feature names to avoid confusion\n",
        "feature_names = [\"fixed acidity\",\"volatile acidity\", \"cirtic acid\",\"residual sugar\",\"chlorides\",\"free sulphur dioxide\", \"total sulphur dioxide\",\"density\",\"pH\",\"sulphates\",\"alcohol\",\"quality\"]\n",
        "#Reading the red wine data\n",
        "red_wine_data = pd.read_csv('/content/drive/My Drive/winequality-red (1).csv',names  =feature_names, sep = ';', header =1)\n",
        "white_wine_data = pd.read_csv('/content/drive/My Drive/winequality-white (1).csv',names  =feature_names, sep = ';', header =1)\n",
        "print(red_wine_data.head())\n",
        "print(white_wine_data.head())\n",
        "#Joining both the data sets into one \n",
        "wine_data = red_wine_data.append(white_wine_data)\n",
        "wine_features = wine_data[feature_names].drop('quality',axis =1).values\n",
        "#Isolating the wine quality labels\n",
        "wine_quality = wine_data['quality'].values\n",
        "print(wine_quality)\n"
      ],
      "execution_count": null,
      "outputs": [
        {
          "output_type": "stream",
          "text": [
            "   fixed acidity  volatile acidity  cirtic acid  ...  sulphates  alcohol  quality\n",
            "0            7.8              0.88         0.00  ...       0.68      9.8        5\n",
            "1            7.8              0.76         0.04  ...       0.65      9.8        5\n",
            "2           11.2              0.28         0.56  ...       0.58      9.8        6\n",
            "3            7.4              0.70         0.00  ...       0.56      9.4        5\n",
            "4            7.4              0.66         0.00  ...       0.56      9.4        5\n",
            "\n",
            "[5 rows x 12 columns]\n",
            "   fixed acidity  volatile acidity  cirtic acid  ...  sulphates  alcohol  quality\n",
            "0            6.3              0.30         0.34  ...       0.49      9.5        6\n",
            "1            8.1              0.28         0.40  ...       0.44     10.1        6\n",
            "2            7.2              0.23         0.32  ...       0.40      9.9        6\n",
            "3            7.2              0.23         0.32  ...       0.40      9.9        6\n",
            "4            8.1              0.28         0.40  ...       0.44     10.1        6\n",
            "\n",
            "[5 rows x 12 columns]\n",
            "[5 5 6 ... 6 7 6]\n"
          ],
          "name": "stdout"
        }
      ]
    },
    {
      "cell_type": "markdown",
      "metadata": {
        "id": "JDOBmVwM1yvO",
        "colab_type": "text"
      },
      "source": [
        "# Analysing the data set"
      ]
    },
    {
      "cell_type": "code",
      "metadata": {
        "id": "fgEMDWxt1-G0",
        "colab_type": "code",
        "colab": {
          "base_uri": "https://localhost:8080/",
          "height": 500
        },
        "outputId": "5384b826-bc18-4d84-8bc0-2bd1fd6ab53d"
      },
      "source": [
        "#Visualising which values occur the most\n",
        "plt.bar(wine_quality, wine_data.index.values)\n",
        "#Getting summary statistics \n",
        "print(wine_data.describe)\n",
        "print(np.min(wine_quality))\n",
        "print(np.max(wine_quality))"
      ],
      "execution_count": null,
      "outputs": [
        {
          "output_type": "stream",
          "text": [
            "<bound method NDFrame.describe of       fixed acidity  volatile acidity  cirtic acid  ...  sulphates  alcohol  quality\n",
            "0               7.8              0.88         0.00  ...       0.68      9.8        5\n",
            "1               7.8              0.76         0.04  ...       0.65      9.8        5\n",
            "2              11.2              0.28         0.56  ...       0.58      9.8        6\n",
            "3               7.4              0.70         0.00  ...       0.56      9.4        5\n",
            "4               7.4              0.66         0.00  ...       0.56      9.4        5\n",
            "...             ...               ...          ...  ...        ...      ...      ...\n",
            "4892            6.2              0.21         0.29  ...       0.50     11.2        6\n",
            "4893            6.6              0.32         0.36  ...       0.46      9.6        5\n",
            "4894            6.5              0.24         0.19  ...       0.46      9.4        6\n",
            "4895            5.5              0.29         0.30  ...       0.38     12.8        7\n",
            "4896            6.0              0.21         0.38  ...       0.32     11.8        6\n",
            "\n",
            "[6495 rows x 12 columns]>\n"
          ],
          "name": "stdout"
        },
        {
          "output_type": "display_data",
          "data": {
            "image/png": "[encoded data removed]",
            "text/plain": [
              "<Figure size 432x288 with 1 Axes>"
            ]
          },
          "metadata": {
            "tags": [],
            "needs_background": "light"
          }
        }
      ]
    },
    {
      "cell_type": "markdown",
      "metadata": {
        "id": "qtu8e6Bl5LrZ",
        "colab_type": "text"
      },
      "source": [
        "# Standardizing the data"
      ]
    },
    {
      "cell_type": "code",
      "metadata": {
        "id": "AT3jZtSj5SZx",
        "colab_type": "code",
        "colab": {
          "base_uri": "https://localhost:8080/",
          "height": 235
        },
        "outputId": "dab7b457-115a-4b01-d954-09d8d6c46a16"
      },
      "source": [
        "scaler = StandardScaler().fit(wine_features)\n",
        "wine_features = scaler.transform(wine_features)\n",
        "print(wine_features)\n"
      ],
      "execution_count": null,
      "outputs": [
        {
          "output_type": "stream",
          "text": [
            "[[ 0.45096432  3.28325769 -2.19361441 ... -0.11503088  0.99939622\n",
            "  -0.58046553]\n",
            " [ 0.45096432  2.55415626 -1.91827331 ...  0.25825195  0.79780158\n",
            "  -0.58046553]\n",
            " [ 3.07335116 -0.36224947  1.66116109 ... -0.3638861   0.3274141\n",
            "  -0.58046553]\n",
            " ...\n",
            " [-0.551713   -0.60528328 -0.88574415 ... -1.42152079 -0.47896443\n",
            "  -0.91588354]\n",
            " [-1.32300324 -0.30149102 -0.12855611 ...  0.75596239 -1.01655012\n",
            "   1.93516956]\n",
            " [-0.93735812 -0.78755864  0.42212611 ...  0.25825195 -1.41973939\n",
            "   1.09662453]]\n"
          ],
          "name": "stdout"
        }
      ]
    },
    {
      "cell_type": "markdown",
      "metadata": {
        "id": "iP1Lb_AR7L8I",
        "colab_type": "text"
      },
      "source": [
        "# Splitting the data set into training and testing sets"
      ]
    },
    {
      "cell_type": "code",
      "metadata": {
        "id": "8e-fNg217UUu",
        "colab_type": "code",
        "colab": {
          "base_uri": "https://localhost:8080/",
          "height": 84
        },
        "outputId": "7d2d2540-5a1f-40e6-ed45-80dacb3bde50"
      },
      "source": [
        "X_train, X_test,y_train, y_test = train_test_split(wine_data, wine_quality)\n",
        "print(X_train.shape)\n",
        "print(y_train.shape)\n",
        "print(X_test.shape)\n",
        "print(y_test.shape)"
      ],
      "execution_count": 38,
      "outputs": [
        {
          "output_type": "stream",
          "text": [
            "(4871, 12)\n",
            "(4871,)\n",
            "(1624, 12)\n",
            "(1624,)\n"
          ],
          "name": "stdout"
        }
      ]
    },
    {
      "cell_type": "markdown",
      "metadata": {
        "id": "qjV_iNi36BTs",
        "colab_type": "text"
      },
      "source": [
        "# Training the model"
      ]
    },
    {
      "cell_type": "code",
      "metadata": {
        "id": "0A3mwvnQ6Gfm",
        "colab_type": "code",
        "colab": {
          "base_uri": "https://localhost:8080/",
          "height": 790
        },
        "outputId": "ec37ee37-0787-4968-d516-9fb78b2e4829"
      },
      "source": [
        "#Defining the model\n",
        "model = Sequential()\n",
        "#Input Layer\n",
        "model.add(Dense(1024,input_dim =12, activation = 'relu'))\n",
        "#Hidden Layers\n",
        "model.add(Dropout(0.3, noise_shape=None, seed = None))\n",
        "model.add(Dense(16, activation='relu'))\n",
        "model.add(Dense(64, activation='relu'))\n",
        "#Output layer\n",
        "model.add(Dense(1))\n",
        "#Goal is to lower validation mse loss\n",
        "model.compile(loss = 'mse', optimizer ='adamax', metrics = ['mse'])\n",
        "#Fitting the model \n",
        "fitted_model = model.fit(X_train,y_train, epochs=23, validation_data= (X_test,y_test), batch_size =16)"
      ],
      "execution_count": 59,
      "outputs": [
        {
          "output_type": "stream",
          "text": [
            "Epoch 1/23\n",
            "305/305 [==============================] - 1s 2ms/step - loss: 2.5527 - mse: 2.5527 - val_loss: 0.6434 - val_mse: 0.6434\n",
            "Epoch 2/23\n",
            "305/305 [==============================] - 1s 2ms/step - loss: 0.8883 - mse: 0.8883 - val_loss: 0.3413 - val_mse: 0.3413\n",
            "Epoch 3/23\n",
            "305/305 [==============================] - 1s 2ms/step - loss: 0.6561 - mse: 0.6561 - val_loss: 0.4995 - val_mse: 0.4995\n",
            "Epoch 4/23\n",
            "305/305 [==============================] - 1s 2ms/step - loss: 0.5058 - mse: 0.5058 - val_loss: 0.2220 - val_mse: 0.2220\n",
            "Epoch 5/23\n",
            "305/305 [==============================] - 1s 2ms/step - loss: 0.3959 - mse: 0.3959 - val_loss: 0.2509 - val_mse: 0.2509\n",
            "Epoch 6/23\n",
            "305/305 [==============================] - 1s 2ms/step - loss: 0.3208 - mse: 0.3208 - val_loss: 0.2189 - val_mse: 0.2189\n",
            "Epoch 7/23\n",
            "305/305 [==============================] - 1s 2ms/step - loss: 0.2503 - mse: 0.2503 - val_loss: 0.1078 - val_mse: 0.1078\n",
            "Epoch 8/23\n",
            "305/305 [==============================] - 1s 2ms/step - loss: 0.1992 - mse: 0.1992 - val_loss: 0.0742 - val_mse: 0.0742\n",
            "Epoch 9/23\n",
            "305/305 [==============================] - 1s 2ms/step - loss: 0.1583 - mse: 0.1583 - val_loss: 0.0405 - val_mse: 0.0405\n",
            "Epoch 10/23\n",
            "305/305 [==============================] - 1s 2ms/step - loss: 0.1271 - mse: 0.1271 - val_loss: 0.0232 - val_mse: 0.0232\n",
            "Epoch 11/23\n",
            "305/305 [==============================] - 1s 2ms/step - loss: 0.1019 - mse: 0.1019 - val_loss: 0.0192 - val_mse: 0.0192\n",
            "Epoch 12/23\n",
            "305/305 [==============================] - 1s 2ms/step - loss: 0.0990 - mse: 0.0990 - val_loss: 0.0221 - val_mse: 0.0221\n",
            "Epoch 13/23\n",
            "305/305 [==============================] - 1s 2ms/step - loss: 0.0908 - mse: 0.0908 - val_loss: 0.0223 - val_mse: 0.0223\n",
            "Epoch 14/23\n",
            "305/305 [==============================] - 1s 2ms/step - loss: 0.0755 - mse: 0.0755 - val_loss: 0.0165 - val_mse: 0.0165\n",
            "Epoch 15/23\n",
            "305/305 [==============================] - 1s 2ms/step - loss: 0.0795 - mse: 0.0795 - val_loss: 0.0142 - val_mse: 0.0142\n",
            "Epoch 16/23\n",
            "305/305 [==============================] - 1s 2ms/step - loss: 0.0734 - mse: 0.0734 - val_loss: 0.0096 - val_mse: 0.0096\n",
            "Epoch 17/23\n",
            "305/305 [==============================] - 1s 2ms/step - loss: 0.0718 - mse: 0.0718 - val_loss: 0.0056 - val_mse: 0.0056\n",
            "Epoch 18/23\n",
            "305/305 [==============================] - 1s 2ms/step - loss: 0.0644 - mse: 0.0644 - val_loss: 0.0129 - val_mse: 0.0129\n",
            "Epoch 19/23\n",
            "305/305 [==============================] - 1s 2ms/step - loss: 0.0640 - mse: 0.0640 - val_loss: 0.0487 - val_mse: 0.0487\n",
            "Epoch 20/23\n",
            "305/305 [==============================] - 1s 2ms/step - loss: 0.0688 - mse: 0.0688 - val_loss: 0.0044 - val_mse: 0.0044\n",
            "Epoch 21/23\n",
            "305/305 [==============================] - 1s 2ms/step - loss: 0.0613 - mse: 0.0613 - val_loss: 0.0077 - val_mse: 0.0077\n",
            "Epoch 22/23\n",
            "305/305 [==============================] - 1s 2ms/step - loss: 0.0603 - mse: 0.0603 - val_loss: 0.0087 - val_mse: 0.0087\n",
            "Epoch 23/23\n",
            "305/305 [==============================] - 1s 2ms/step - loss: 0.0560 - mse: 0.0560 - val_loss: 0.0218 - val_mse: 0.0218\n"
          ],
          "name": "stdout"
        }
      ]
    },
    {
      "cell_type": "markdown",
      "metadata": {
        "id": "gDNWVxmRHWie",
        "colab_type": "text"
      },
      "source": [
        "Displaying the mean squared error  "
      ]
    },
    {
      "cell_type": "code",
      "metadata": {
        "id": "RFmtc5jQHejL",
        "colab_type": "code",
        "colab": {
          "base_uri": "https://localhost:8080/",
          "height": 67
        },
        "outputId": "2e4e2ce0-442d-4a2b-d26d-143bf109eb4d"
      },
      "source": [
        "from math import sqrt\n",
        "print(\"The Validation Root mean squared error is:\", sqrt(np.mean(fitted_model.history[\"val_mse\"])))\n"
      ],
      "execution_count": 64,
      "outputs": [
        {
          "output_type": "stream",
          "text": [
            "The Validation Root mean squared error is: 0.3384959986207983\n",
            "3\n",
            "9\n"
          ],
          "name": "stdout"
        }
      ]
    }
  ]
}